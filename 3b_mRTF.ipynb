{
 "cells": [
  {
   "cell_type": "code",
   "execution_count": 1,
   "id": "71d3cae3-efae-4887-8c28-02b239db3f23",
   "metadata": {},
   "outputs": [],
   "source": [
    "# Modif target_binary, ignore_column for next participant ????????????????????????????\n",
    "data_path = '/home/lea/Documents/obsidian_notes/masterADS/ads_thesis_RIFT'\n",
    "trial_info_file = '/A0/converted/trialinfo_matrix_A0_cleanedtrials.mat'\n",
    "data_file = '/A0/Experimental/data.mat'\n",
    "epoch_file = '/my_code/epochs_from_matrix/epochs_0.fif'\n",
    "\n",
    "relevant_electrodes = ['O2','PO4','PO8','P8','P4','P6','P2','P1','P3','P5','P7','PO7','PO3','O1','Pz','POz','Oz','Iz']\n",
    "electrodes_kabir = ['POz', 'PO3', 'PO4', 'Pz', 'P1', 'P3', 'Oz', 'O1', 'O2']\n",
    "\n",
    "# Dic to index trial_info matrix\n",
    "info_colnames = {'0':0 ,'1':1 ,'RT':2,'PTB_check_RT_error':3, 'answer':4,'stimuli_target_interval':5,\\\n",
    "                      'base_delay':6, 'flicker_sides':7, 'cued_side':8, 'orients_L':9, 'orients_r':10,\\\n",
    "                      'ignore_column':11, 'target_angle':12, 'tagging_type':13, 'trial_number':14}"
   ]
  },
  {
   "cell_type": "code",
   "execution_count": 2,
   "id": "973fb578-17ea-497c-b004-0248aacfff34",
   "metadata": {},
   "outputs": [],
   "source": [
    "import scipy.io as sio\n",
    "import scipy\n",
    "import numpy as np\n",
    "import pandas as pd\n",
    "import eelbrain\n",
    "import mne\n",
    "from mne.time_frequency import EpochsTFRArray\n",
    "import matplotlib.pyplot as plt\n",
    "import copy\n"
   ]
  },
  {
   "cell_type": "code",
   "execution_count": 3,
   "id": "8d8b7aaa-8b5b-4a8b-86b2-0ae6e30cb233",
   "metadata": {},
   "outputs": [],
   "source": [
    "# Load trial info\n",
    "f = sio.loadmat(f'{data_path}{trial_info_file}')\n",
    "trial_info = f['all_info']\n"
   ]
  },
  {
   "cell_type": "code",
   "execution_count": 4,
   "id": "86ac1e4a-1b43-4762-970e-440e99afc61c",
   "metadata": {},
   "outputs": [
    {
     "name": "stderr",
     "output_type": "stream",
     "text": [
      "/tmp/ipykernel_18849/4056453725.py:18: RuntimeWarning: This filename (/home/lea/Documents/obsidian_notes/masterADS/ads_thesis_RIFT/my_code/epochs_from_matrix/epochs_0.fif) does not conform to MNE naming conventions. All epochs files should end with -epo.fif, -epo.fif.gz, _epo.fif or _epo.fif.gz\n",
      "  epochs = mne.read_epochs(f'{data_path}{epoch_file}')\n"
     ]
    }
   ],
   "source": [
    "# Get target binary (i.e if a shift happened)\n",
    "f = sio.loadmat(f'{data_path}{data_file}')\n",
    "target_binary =f['data']['targets_binary'][0][0]\n",
    "# Remove practice trials\n",
    "target_binary = target_binary[1:,:]\n",
    "# Collapse to trial indexes\n",
    "original_shape = target_binary.shape\n",
    "new_shape = (original_shape[0] * original_shape[1],) + original_shape[2:]\n",
    "target_binary = np.reshape(target_binary, new_shape)\n",
    "target_binary = pd.DataFrame({'trial_number':np.arange(target_binary.shape[0]), 'target_binary':target_binary})\n",
    "\n",
    "# Create pd df to pass to mne metadata\n",
    "pd_info = pd.DataFrame(trial_info, columns=info_colnames.keys())\n",
    "pd_info['trial_number']= pd_info['trial_number'].astype(int) - 1\n",
    "pd_info = pd.merge(pd_info, target_binary, on = 'trial_number')\n",
    "\n",
    "# Load eeg epochs .fif and add metadata\n",
    "epochs = mne.read_epochs(f'{data_path}{epoch_file}')\n",
    "epochs.metadata = pd_info\n"
   ]
  },
  {
   "cell_type": "code",
   "execution_count": 5,
   "id": "eea844c7-1866-4875-8325-d20f5a939f34",
   "metadata": {},
   "outputs": [
    {
     "data": {
      "text/html": [
       "<table class=\"table table-hover table-striped table-sm table-responsive small\">\n",
       "    <tr>\n",
       "        <th>Number of events</th>\n",
       "        <td>440</td>\n",
       "    </tr>\n",
       "    <tr>\n",
       "        <th>Events</th>\n",
       "        \n",
       "        <td>1: 440</td>\n",
       "        \n",
       "    </tr>\n",
       "    <tr>\n",
       "        <th>Time range</th>\n",
       "        <td>-1.000 – 2.299 s</td>\n",
       "    </tr>\n",
       "    <tr>\n",
       "        <th>Baseline</th>\n",
       "        <td>off</td>\n",
       "    </tr>\n",
       "</table>"
      ],
      "text/plain": [
       "<EpochsFIF |  440 events (all good), -1 – 2.29932 s, baseline off, ~408.4 MB, data loaded, with metadata,\n",
       " '1': 440>"
      ]
     },
     "execution_count": 5,
     "metadata": {},
     "output_type": "execute_result"
    }
   ],
   "source": [
    "# Keep only posterior electrodes\n",
    "epochs.pick_channels(relevant_electrodes)"
   ]
  },
  {
   "cell_type": "code",
   "execution_count": 6,
   "id": "a9377463-1a5a-4297-a3bb-2fab4045a5c7",
   "metadata": {},
   "outputs": [],
   "source": [
    "# Keep only trials where there was no target\n",
    "epochs = epochs['target_binary==0']"
   ]
  },
  {
   "cell_type": "markdown",
   "id": "5f775e89-3e72-4e71-94fb-955ea46a9634",
   "metadata": {},
   "source": [
    "# A. Frequency tagging condition\n",
    "# 1 - Tag presence\n",
    "## 1.1 FFT & SNR"
   ]
  },
  {
   "cell_type": "code",
   "execution_count": 7,
   "id": "68579e35-57ec-452f-b25a-66a4f9c97031",
   "metadata": {},
   "outputs": [],
   "source": [
    "epochs_freqtag = epochs['tagging_type==0'].copy()"
   ]
  },
  {
   "cell_type": "code",
   "execution_count": 8,
   "id": "acd3e7d9-5a47-4eb5-8386-14db19be943d",
   "metadata": {},
   "outputs": [
    {
     "name": "stderr",
     "output_type": "stream",
     "text": [
      "/home/lea/anaconda3/envs/ads_thesis/lib/python3.12/site-packages/eelbrain/_io/fiff.py:1173: RuntimeWarning: This filename (/home/lea/Documents/obsidian_notes/masterADS/ads_thesis_RIFT/my_code/epochs_from_matrix/epochs_0.fif) does not conform to MNE naming conventions. All epochs files should end with -epo.fif, -epo.fif.gz, _epo.fif or _epo.fif.gz\n",
      "  epochs = mne.read_epochs(epochs, proj=proj)\n",
      "/home/lea/anaconda3/envs/ads_thesis/lib/python3.12/site-packages/eelbrain/_io/fiff.py:1180: FutureWarning: The current default of copy=False will change to copy=True in 1.7. Set the value of copy explicitly to avoid this warning\n",
      "  x = epochs.get_data()\n"
     ]
    }
   ],
   "source": [
    "# ATTNETION TOUTES LES EPOCHS PAS JUSTE FREQTAG\n",
    "test = eelbrain.load.mne.epochs_ndvar(f'{data_path}{epoch_file}')"
   ]
  },
  {
   "cell_type": "code",
   "execution_count": null,
   "id": "d3fdd1cb-d88d-43a6-9f6e-22da69216c06",
   "metadata": {},
   "outputs": [],
   "source": []
  }
 ],
 "metadata": {
  "kernelspec": {
   "display_name": "Python 3 (ipykernel)",
   "language": "python",
   "name": "python3"
  },
  "language_info": {
   "codemirror_mode": {
    "name": "ipython",
    "version": 3
   },
   "file_extension": ".py",
   "mimetype": "text/x-python",
   "name": "python",
   "nbconvert_exporter": "python",
   "pygments_lexer": "ipython3",
   "version": "3.12.2"
  }
 },
 "nbformat": 4,
 "nbformat_minor": 5
}
