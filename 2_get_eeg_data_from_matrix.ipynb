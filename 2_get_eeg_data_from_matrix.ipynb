{
 "cells": [
  {
   "cell_type": "markdown",
   "id": "dabc2f92-566f-4396-b417-2507309c05c2",
   "metadata": {},
   "source": [
    "This notebook creates an mne compatible epoch file from the pre-processed data matrix generated in MATLAB"
   ]
  },
  {
   "cell_type": "code",
   "execution_count": 1,
   "id": "0a667420-0c63-4579-a921-b68250fa9daa",
   "metadata": {},
   "outputs": [],
   "source": [
    "import scipy.io as sio\n",
    "import h5py\n",
    "import numpy as np \n",
    "from mne import create_info, concatenate_raws, EpochsArray"
   ]
  },
  {
   "cell_type": "code",
   "execution_count": 3,
   "id": "bf41905a-e1ed-4c18-b20b-2327828e56a0",
   "metadata": {},
   "outputs": [
    {
     "name": "stdout",
     "output_type": "stream",
     "text": [
      "[[array(['EXG1'], dtype='<U4')]\n",
      " [array(['EXG2'], dtype='<U4')]\n",
      " [array(['EXG3'], dtype='<U4')]\n",
      " [array(['EXG4'], dtype='<U4')]]\n",
      "(440, 6758, 37)\n",
      "Not setting metadata\n",
      "440 matching events found\n",
      "No baseline correction applied\n",
      "0 projection items activated\n",
      "Overwriting existing file.\n",
      "Overwriting existing file.\n"
     ]
    },
    {
     "name": "stderr",
     "output_type": "stream",
     "text": [
      "/tmp/ipykernel_8094/2565466420.py:47: RuntimeWarning: This filename (/home/lea/Documents/obsidian_notes/masterADS/ads_thesis_RIFT/my_code_expe1/epochs_from_matrix/epochs_0.fif) does not conform to MNE naming conventions. All epochs files should end with -epo.fif, -epo.fif.gz, _epo.fif or _epo.fif.gz\n",
      "  epochs.save(f'{endsave_path}epochs_{participant_id}.fif', overwrite=True)\n"
     ]
    },
    {
     "name": "stdout",
     "output_type": "stream",
     "text": [
      "[[array(['EXG1'], dtype='<U4')]\n",
      " [array(['EXG2'], dtype='<U4')]\n",
      " [array(['EXG3'], dtype='<U4')]\n",
      " [array(['EXG4'], dtype='<U4')]]\n",
      "(428, 6758, 37)\n",
      "Not setting metadata\n",
      "428 matching events found\n",
      "No baseline correction applied\n",
      "0 projection items activated\n",
      "Overwriting existing file.\n"
     ]
    },
    {
     "name": "stderr",
     "output_type": "stream",
     "text": [
      "/tmp/ipykernel_8094/2565466420.py:47: RuntimeWarning: This filename (/home/lea/Documents/obsidian_notes/masterADS/ads_thesis_RIFT/my_code_expe1/epochs_from_matrix/epochs_1.fif) does not conform to MNE naming conventions. All epochs files should end with -epo.fif, -epo.fif.gz, _epo.fif or _epo.fif.gz\n",
      "  epochs.save(f'{endsave_path}epochs_{participant_id}.fif', overwrite=True)\n"
     ]
    },
    {
     "name": "stdout",
     "output_type": "stream",
     "text": [
      "Overwriting existing file.\n",
      "[[array(['EXG1'], dtype='<U4')]\n",
      " [array(['EXG2'], dtype='<U4')]\n",
      " [array(['EXG3'], dtype='<U4')]\n",
      " [array(['EXG4'], dtype='<U4')]]\n",
      "(467, 6758, 37)\n",
      "Not setting metadata\n",
      "467 matching events found\n",
      "No baseline correction applied\n",
      "0 projection items activated\n"
     ]
    },
    {
     "name": "stderr",
     "output_type": "stream",
     "text": [
      "/tmp/ipykernel_8094/2565466420.py:47: RuntimeWarning: This filename (/home/lea/Documents/obsidian_notes/masterADS/ads_thesis_RIFT/my_code_expe1/epochs_from_matrix/epochs_2.fif) does not conform to MNE naming conventions. All epochs files should end with -epo.fif, -epo.fif.gz, _epo.fif or _epo.fif.gz\n",
      "  epochs.save(f'{endsave_path}epochs_{participant_id}.fif', overwrite=True)\n"
     ]
    }
   ],
   "source": [
    "data_list = [\"A0\", \"A1\", \"A2\"]\n",
    "sampling_freq_hz = 2048\n",
    "epoch_start_dist_to_cue = -1.0 #in secondes\n",
    "\n",
    "for data in data_list:\n",
    "    channelabels_path = f'/home/lea/Documents/obsidian_notes/masterADS/ads_thesis_RIFT/my_code_expe1/data/channel_labels.mat'\n",
    "    eegdata_path = f'/home/lea/Documents/obsidian_notes/masterADS/ads_thesis_RIFT/my_code_expe1/data/{data}/converted/eeg_matrix.mat'\n",
    "    participant_id = int(list(data)[-1]) # saving requires it to be an integer\n",
    "    endsave_path = '/home/lea/Documents/obsidian_notes/masterADS/ads_thesis_RIFT/my_code_expe1/epochs_from_matrix/'\n",
    "    # Get channels names from .mat\n",
    "    f = sio.loadmat(channelabels_path)\n",
    "    labels = f['channellabels_ADSselection']\n",
    "    # Remove external electrodes from labels\n",
    "    print(labels[-4:])\n",
    "    labels = labels[:-4]\n",
    "    # Load eeg data from .mat\n",
    "    f = h5py.File(eegdata_path)\n",
    "    eeg_data = np.array(f['data_eeg'])\n",
    "    print(eeg_data.shape) # trials x timepoints x channels\n",
    "    eeg_data = eeg_data.transpose((0,2,1))\n",
    "    trials, channels, timepoints = eeg_data.shape\n",
    "    # Define channel names\n",
    "    channel_names = [str(i[0][0]) for i in labels]\n",
    "    \n",
    "    # Define sampling frequency \n",
    "    sfreq = sampling_freq_hz\n",
    "    \n",
    "    # Define time range such that cue onset = 0\n",
    "    tmin = epoch_start_dist_to_cue\n",
    "    \n",
    "    # Create MNE info structure\n",
    "    info = create_info(channel_names, sfreq, ch_types='eeg')\n",
    "    \n",
    "    # Enter participant ID\n",
    "    info['subject_info'] = {'id': participant_id}\n",
    "    \n",
    "    # Built list of trial data\n",
    "    epochs_data = []  \n",
    "    for trial in range(trials):\n",
    "        data = eeg_data[trial]\n",
    "        epochs_data.append(data)\n",
    "    \n",
    "    # Create EpochsArray object\n",
    "    epochs = EpochsArray(epochs_data, info, tmin=tmin)\n",
    "    epochs.set_montage('biosemi64')\n",
    "    # Save EpochsArray\n",
    "    epochs.save(f'{endsave_path}epochs_{participant_id}.fif', overwrite=True)"
   ]
  },
  {
   "cell_type": "code",
   "execution_count": null,
   "id": "ab46b075-cd35-488d-ac0c-e098a53b2cc0",
   "metadata": {},
   "outputs": [],
   "source": []
  }
 ],
 "metadata": {
  "kernelspec": {
   "display_name": "Python 3 (ipykernel)",
   "language": "python",
   "name": "python3"
  },
  "language_info": {
   "codemirror_mode": {
    "name": "ipython",
    "version": 3
   },
   "file_extension": ".py",
   "mimetype": "text/x-python",
   "name": "python",
   "nbconvert_exporter": "python",
   "pygments_lexer": "ipython3",
   "version": "3.12.2"
  }
 },
 "nbformat": 4,
 "nbformat_minor": 5
}
