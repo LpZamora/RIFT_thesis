{
 "cells": [
  {
   "cell_type": "code",
   "execution_count": null,
   "id": "3127fc78-c184-47dd-abb6-26a07a67f295",
   "metadata": {},
   "outputs": [],
   "source": [
    "name_subj = \"A0_EEG\"\n",
    "\n",
    "import mne\n",
    "import os\n",
    "import numpy as np\n",
    "import pandas as pd\n",
    "import matplotlib.pyplot as plt\n",
    "\n",
    "%matplotlib inline\n",
    "EEG_data_path = '../'#Path data is\n"
   ]
  },
  {
   "cell_type": "markdown",
   "id": "e732d1fb-3738-41cd-a3f9-5a18d1dc2df9",
   "metadata": {},
   "source": [
    "# Reading raw BDF, setting up bipolar references and montage"
   ]
  },
  {
   "cell_type": "code",
   "execution_count": null,
   "id": "f7772222-3c24-4454-b825-eda47ad76189",
   "metadata": {},
   "outputs": [],
   "source": [
    "raw = mne.io.read_raw_bdf(EEG_data_path+'%s.bdf'%name_subj,preload=True, verbose=True)"
   ]
  },
  {
   "cell_type": "code",
   "execution_count": null,
   "id": "2199af90-30fd-4a35-bb1f-6dd443f2055c",
   "metadata": {},
   "outputs": [],
   "source": [
    "raw.info"
   ]
  },
  {
   "cell_type": "markdown",
   "id": "6e1ae832-a223-48dc-8d3b-e28d5fcc6830",
   "metadata": {},
   "source": [
    "- Good channels : 72 electrodes total (including the extrenal ones) + 1 stimulus (the trigger channel)\n",
    "\n",
    "- Bad channels can be completed if needed\n",
    "\n",
    "- EOG will be\n",
    "\n",
    "- ECG is used in MEG"
   ]
  },
  {
   "cell_type": "code",
   "execution_count": null,
   "id": "7ba139b7-67a6-4999-9d41-abecc3b4c26c",
   "metadata": {},
   "outputs": [],
   "source": [
    "# Downsample to 1000Hz\n",
    "# First read the events to maintain their exact timing despite downsampling\n",
    "events = mne.find_events(raw, shortest_event=1)\n",
    "raw.resample(sfreq = 1000, events=events) # Note that raw modif are always in place"
   ]
  },
  {
   "cell_type": "code",
   "execution_count": null,
   "id": "369a1282-dadb-4dc9-b709-53c8bf3b50a7",
   "metadata": {
    "scrolled": true
   },
   "outputs": [],
   "source": [
    "raw.pick_channels(['O2','PO4','PO8','P8','P4','P6','P2','P1','P3','P5','P7','PO7','PO3','O1','Pz','POz','Oz','Iz','EXG1','EXG2','EXG3','EXG4','Status'])\n",
    "# Creating the bipolar montage, the 4 first are the EOG\n",
    "# ???? mne.set_bipolar_reference(raw,anode=['EXG1','EXG3'],cathode=['EXG2','A1'],ch_name=['EOGH','EOGV'],copy=False, drop_refs=False) \n",
    "# raw.drop_channels(['EXG1','EXG2','EXG3'])#Empty\n",
    "raw.set_channel_types({'EXG1':'eog','EXG2':'eog','EXG3':'misc','EXG4':'misc'})#declare type to avoid confusion with EEG channels\n",
    "raw.set_montage('biosemi64')"
   ]
  },
  {
   "cell_type": "markdown",
   "id": "1edff189-df9f-4832-ab6d-429bb48777fb",
   "metadata": {},
   "source": [
    "# Checking for bad electrodes"
   ]
  },
  {
   "cell_type": "code",
   "execution_count": null,
   "id": "7cf25f93-b665-42a0-a17f-56fbf0dd24c2",
   "metadata": {
    "scrolled": true
   },
   "outputs": [],
   "source": [
    "%matplotlib qt\n",
    "raw.set_eeg_reference(['EXG3','EXG4'])\n",
    "# Double click on electrode, it gets grey and is added to 'bad channels' \n",
    "# In the interactive plot 'Status' is the trigger channel\n",
    "raw.plot(block=True, scalings=100e-6);"
   ]
  },
  {
   "cell_type": "code",
   "execution_count": null,
   "id": "f3de092f-0296-4ca9-8c49-03325040d962",
   "metadata": {
    "scrolled": true
   },
   "outputs": [],
   "source": [
    "raw.info['bads'] "
   ]
  },
  {
   "cell_type": "markdown",
   "id": "c09bd1ac-bec4-41ea-8cf1-54b17493f948",
   "metadata": {},
   "source": [
    "# Filtering"
   ]
  },
  {
   "cell_type": "markdown",
   "id": "94485102-17e3-4d29-aaf9-74cb3d5e2ad9",
   "metadata": {},
   "source": [
    "High pass filter"
   ]
  },
  {
   "cell_type": "code",
   "execution_count": null,
   "id": "350975cf-207e-4a19-b617-4cdd631643c3",
   "metadata": {},
   "outputs": [],
   "source": [
    "%matplotlib inline \n",
    "#bandpass filter\n",
    "raw.filter(l_freq =.01, h_freq = None,l_trans_bandwidth='auto',filter_length='auto',phase='zero') # high-pass filter to keep >.01 Hz\n",
    "#Against electric noise of 50hz\n",
    "raw.notch_filter(freqs=[50,100,150]) # add 150 when less downsampled\n",
    "# Fourier to check filtering\n",
    "raw.plot_psd(tmin=500, fmax=200, picks='eeg'); # fmax to 200 when not as downsampled\n",
    "plt.show()"
   ]
  },
  {
   "cell_type": "code",
   "execution_count": null,
   "id": "08598743-76e9-45a3-bce3-0db91e4f6e10",
   "metadata": {
    "scrolled": true
   },
   "outputs": [],
   "source": [
    "# save in case of crash\n",
    "raw.save(EEG_data_path+\"preprocessing/pre_rejection_%s.fif\"%name_subj,overwrite=True) "
   ]
  },
  {
   "cell_type": "markdown",
   "id": "da2db2fc-c9f9-4052-8db7-574900877ac3",
   "metadata": {},
   "source": [
    "# Rejecting artefacts"
   ]
  },
  {
   "cell_type": "code",
   "execution_count": null,
   "id": "44a0d8e2",
   "metadata": {},
   "outputs": [],
   "source": [
    "raw = mne.io.read_raw_fif(EEG_data_path+\"preprocessing/pre_rejection_%s.fif\"%name_subj)"
   ]
  },
  {
   "cell_type": "code",
   "execution_count": null,
   "id": "c4bd0ede-62ad-4cee-86e2-d6d20761cbaf",
   "metadata": {},
   "outputs": [],
   "source": [
    "events = mne.find_events(raw, shortest_event=1)\n",
    "mne.viz.plot_events(events);"
   ]
  },
  {
   "cell_type": "code",
   "execution_count": null,
   "id": "6c549871-70bc-40eb-a626-2e5842988395",
   "metadata": {},
   "outputs": [],
   "source": [
    "start_weird = events[events[:,-1] == 256][0][0]#start time of weird triggers\n",
    "events = events[events[:,0] < start_weird]"
   ]
  },
  {
   "cell_type": "code",
   "execution_count": null,
   "id": "9d9c752a-791d-4ad0-9bbd-2d2105aaf2a8",
   "metadata": {
    "scrolled": true
   },
   "outputs": [],
   "source": [
    "stim_trigger = [5]\n",
    "cue_trigger = [3]\n",
    "resp_trigger = [4]\n",
    "stim = np.array([x for x in events if x[-1] in  cue_trigger])\n",
    "resp = np.array([x for x in events if x[-1] in  resp_trigger])\n"
   ]
  },
  {
   "cell_type": "markdown",
   "id": "b3de0958-a975-4433-a202-10e1a124b33e",
   "metadata": {},
   "source": [
    "## Annotation of very long RTs"
   ]
  },
  {
   "cell_type": "code",
   "execution_count": null,
   "id": "2d35db1d-85fc-4d9e-9323-22b3fc5271f7",
   "metadata": {
    "scrolled": true
   },
   "outputs": [],
   "source": [
    "stim_events = np.array([list(x) for x in events if x[2] in cue_trigger])\n",
    "\n",
    "\n",
    "estimated_duration_breaks = 5 #seconds\n",
    "onset_breaks = stim_events[np.where(np.diff(stim_events[:,0], n=1) > (raw.info['sfreq']*estimated_duration_breaks))][:,0]/raw.info['sfreq'] #detecting latencies between triggers > x sec\n",
    "offset_breaks = np.flip(np.flip(stim_events)[np.where(np.diff(np.flip(stim_events[:,0]), n=1) < -(raw.info['sfreq']*estimated_duration_breaks))])[:,0]/raw.info['sfreq']\n",
    "\n",
    "onset_breaks = onset_breaks + 3 #add 3 sec after last stimulus trigger\n",
    "offset_breaks = offset_breaks - .6 #removes 600 msec before next stimulus trigger\n",
    "\n",
    "onset_breaks = np.insert(onset_breaks,0,0)#just adding start of the recording to the breaks\n",
    "onset_breaks = np.insert(onset_breaks,-1, stim_events[-1,0]/raw.info['sfreq']+3)#just adding end of the recording to the breaks\n",
    "\n",
    "offset_breaks = np.insert(offset_breaks,0,stim_events[0,0]/raw.info['sfreq']-.6)#just adding start of the recording to the breaks\n",
    "offset_breaks = np.insert(offset_breaks,-1, raw.times.max())#just adding end of the recording to the breaks\n",
    "\n",
    "\n",
    "duration_breaks = np.asarray(offset_breaks) - np.asarray(onset_breaks)\n",
    "\n",
    "\n",
    "print(len(duration_breaks))\n",
    "break_annot = mne.Annotations(onset= np.insert(onset_breaks,0,0),#just adding start of the recording to the breaks\n",
    "                           duration=np.insert(duration_breaks,0, stim_events[0,0]/raw.info['sfreq']-1),\n",
    "                           description=['BAD_breaks'])\n",
    "raw.set_annotations(break_annot)"
   ]
  },
  {
   "cell_type": "markdown",
   "id": "95d88989-a930-4af1-beea-11fe3e361779",
   "metadata": {},
   "source": [
    "## Adding annotations\n",
    "\n",
    "After executing next cell, first enter in annotation mode with key \"a\" and add a description \"BAD\" then remove portions where participant was clearly doing something else (scratching, blinking during stimulus presentation, weird artifacts), also remoe trials with unrecoverable noise and spread across all electrodes"
   ]
  },
  {
   "cell_type": "code",
   "execution_count": null,
   "id": "2271a505-18c1-4fd9-a6cf-14b5cdc90267",
   "metadata": {
    "scrolled": true
   },
   "outputs": [],
   "source": [
    "%matplotlib qt\n",
    "if 'saved_annotations_%s.csv'%(name_subj) in os.listdir(EEG_data_path+'/preprocessing'):\n",
    "    annot_from_file = mne.read_annotations(EEG_data_path+'/preprocessing/saved_annotations_%s.csv'%(name_subj))\n",
    "    raw.set_annotations(annot_from_file)\n",
    "    raw.plot(events=events, remove_dc=True, n_channels=len(raw.ch_names), block=False)\n",
    "else:\n",
    "    raw.plot(events=events,  remove_dc=True, n_channels=len(raw.ch_names), block=False)"
   ]
  },
  {
   "cell_type": "code",
   "execution_count": null,
   "id": "2a25c0bb",
   "metadata": {},
   "outputs": [],
   "source": [
    "raw.annotations.save(EEG_data_path+'/preprocessing/saved_annotations_%s.csv'%(name_subj),overwrite=True)"
   ]
  },
  {
   "cell_type": "code",
   "execution_count": null,
   "id": "4ae4a452-0e98-459f-a38f-0dc8db10452a",
   "metadata": {
    "scrolled": true
   },
   "outputs": [],
   "source": [
    "raw.save(EEG_data_path+'/preprocessing/pre_ica_%s.fif'%name_subj,overwrite=True)"
   ]
  },
  {
   "cell_type": "markdown",
   "id": "13aca2c9-13a0-46bd-9c09-f2cb54173864",
   "metadata": {},
   "source": [
    "## For the remaining sections and up to the ICA reconstruction I only work with 1Hz High pass filtered data \n",
    "\n",
    "The reason being that annotation marked as bad, ibadf not previously filtered to remove slow drifts, gives crazy ICA results (probably because it then captures a lot of edge artifacts from the drifts occuring between the breaks), plus lightly filtered data and average reference seems to ease the detection of artifact, both visually and with the ICA. But the final data (after reconstruction) will remain filtered at 0.01Hz as we usually do and as is recommended for ERP analysis"
   ]
  },
  {
   "cell_type": "code",
   "execution_count": null,
   "id": "06e887ac-f5fe-4e76-896d-a741210f4642",
   "metadata": {
    "scrolled": true
   },
   "outputs": [],
   "source": [
    "raw = mne.io.read_raw_fif(EEG_data_path+'/preprocessing/pre_ica_%s.fif'%name_subj, preload=True)"
   ]
  },
  {
   "cell_type": "markdown",
   "id": "64b5b9b0-7c43-4623-9305-97ac865af9c0",
   "metadata": {},
   "source": [
    "# Fitting ICA"
   ]
  },
  {
   "cell_type": "markdown",
   "id": "e49e5caf-c44a-45d0-b284-e6fdf1faf637",
   "metadata": {},
   "source": [
    "###  Resampling"
   ]
  },
  {
   "cell_type": "markdown",
   "id": "f0fdf1cf",
   "metadata": {},
   "source": [
    "#Downsampling to 250 Hz to reduce computational load."
   ]
  },
  {
   "cell_type": "code",
   "execution_count": null,
   "id": "3b0571b7-0572-4369-b5b9-7d8be8e1150a",
   "metadata": {
    "scrolled": true
   },
   "outputs": [],
   "source": [
    "# events = mne.find_events(raw)\n",
    "# raw, events = raw.resample(250, events=events)"
   ]
  },
  {
   "cell_type": "code",
   "execution_count": null,
   "id": "22a9018b-8fb2-4aa1-a689-8dbd92cd5841",
   "metadata": {
    "scrolled": true
   },
   "outputs": [],
   "source": [
    "events = mne.find_events(raw)\n",
    "stim_trigger = [5]\n",
    "cue_trigger = [3]\n",
    "resp_trigger = [4]\n",
    "stim = np.array([x for x in events if x[-1] in  cue_trigger])\n",
    "resp = np.array([x for x in events if x[-1] in  resp_trigger])\n",
    "start_weird = events[events[:,-1] == 256][0][0]#start time of weird triggers\n",
    "events = events[events[:,0] < start_weird]"
   ]
  },
  {
   "cell_type": "code",
   "execution_count": null,
   "id": "fa51f339-eb44-4f91-929f-e0f0a1c86070",
   "metadata": {
    "scrolled": true
   },
   "outputs": [],
   "source": [
    "ica = mne.preprocessing.ICA(n_components = len(raw.pick_types(eeg=True).ch_names), method='fastica', max_iter='auto')\n",
    "ica.fit(raw)"
   ]
  },
  {
   "cell_type": "code",
   "execution_count": null,
   "id": "ecc9a33b-cad0-4018-be3c-1036b657c515",
   "metadata": {
    "scrolled": true
   },
   "outputs": [],
   "source": [
    "ica.save(EEG_data_path+'/preprocessing/ICA_object_%s.fif'%name_subj, overwrite=True);"
   ]
  },
  {
   "cell_type": "markdown",
   "id": "a26d2aa7-cd6a-41c0-87c4-745792f82f9f",
   "metadata": {},
   "source": [
    "### Visualizing on epochs"
   ]
  },
  {
   "cell_type": "code",
   "execution_count": null,
   "id": "1eaa8a31-f130-4338-8ea1-3d25791277cf",
   "metadata": {
    "scrolled": true
   },
   "outputs": [],
   "source": [
    "epochs = mne.Epochs(raw, events, event_id=[int(x) for x in cue_trigger], tmin=-0.5, tmax=2, preload=True)"
   ]
  },
  {
   "cell_type": "markdown",
   "id": "6add657a-31af-479c-ab43-21ffa105ce37",
   "metadata": {},
   "source": [
    "### ICs epoch timecourse\n"
   ]
  },
  {
   "cell_type": "code",
   "execution_count": null,
   "id": "76dc6fed-0f76-4c82-964d-127f4ba13c15",
   "metadata": {
    "scrolled": true
   },
   "outputs": [],
   "source": [
    "%matplotlib qt\n",
    "ica.plot_components(inst=epochs)"
   ]
  },
  {
   "cell_type": "code",
   "execution_count": null,
   "id": "3ae5f83d-2173-46d9-827c-e7c7898fdc9d",
   "metadata": {},
   "outputs": [],
   "source": [
    "ica.plot_sources(epochs, block=False)"
   ]
  },
  {
   "cell_type": "markdown",
   "id": "8348a0c4-9295-4b5c-a5c0-d20cf04be948",
   "metadata": {},
   "source": [
    "### zoom on suspicious ICs"
   ]
  },
  {
   "cell_type": "code",
   "execution_count": null,
   "id": "db5506ec-865f-477a-879f-bd9f4af9b64b",
   "metadata": {},
   "outputs": [],
   "source": [
    "%matplotlib inline \n",
    "# fig, ax = plt.subplots(len(ica.exclude), 5, figsize = (25, len(ica.exclude)*5))\n",
    "# i = 0\n",
    "# for comp in ica.exclude:\n",
    "#     ica.plot_properties(epochs, picks=comp, axes=ax[i,:], show=False);\n",
    "#     i += 1\n",
    "# plt.show()\n",
    "# ica.exclude = [int(x) for x in input([]).split(',')]"
   ]
  },
  {
   "cell_type": "code",
   "execution_count": null,
   "id": "0ccdf999-d2d1-4209-9c2e-ebaa5c012682",
   "metadata": {
    "scrolled": true
   },
   "outputs": [],
   "source": [
    "ica.exclude"
   ]
  },
  {
   "cell_type": "markdown",
   "id": "e931f38c-c5d0-4cec-aa58-5f848aeb523c",
   "metadata": {},
   "source": [
    "## Final exclusions of ICA components :"
   ]
  },
  {
   "cell_type": "code",
   "execution_count": null,
   "id": "fa8db936-7343-4563-8c65-852c02dcf246",
   "metadata": {
    "scrolled": true
   },
   "outputs": [],
   "source": [
    "%matplotlib inline \n",
    "print(ica.exclude)\n",
    "ica.plot_overlay(epochs.average(), exclude=ica.exclude, picks='eeg');"
   ]
  },
  {
   "cell_type": "code",
   "execution_count": null,
   "id": "8498b359-095d-4b75-a557-40dfcd15d707",
   "metadata": {
    "scrolled": true
   },
   "outputs": [],
   "source": [
    "raw = mne.io.read_raw_fif(EEG_data_path+'/preprocessing/pre_ica_%s.fif'%name_subj, preload=True)"
   ]
  },
  {
   "cell_type": "code",
   "execution_count": null,
   "id": "7051332c-e35c-45fb-84a7-728b98249212",
   "metadata": {
    "scrolled": true
   },
   "outputs": [],
   "source": [
    "ica.apply(raw)"
   ]
  },
  {
   "cell_type": "markdown",
   "id": "850dbbf7-68c6-47c9-8a58-fe23b2b45ffb",
   "metadata": {},
   "source": [
    "# Interpolating the bad electrodes after ICA"
   ]
  },
  {
   "cell_type": "code",
   "execution_count": null,
   "id": "68c0a9fb-45f9-43b2-bf69-165e8ce7000f",
   "metadata": {
    "scrolled": true
   },
   "outputs": [],
   "source": [
    "print(raw.info['bads'])\n",
    "raw = raw.interpolate_bads()\n",
    "raw.info['bads']\n"
   ]
  },
  {
   "cell_type": "code",
   "execution_count": null,
   "id": "6c7d4756-53df-4e53-b984-68ff74f7bd70",
   "metadata": {
    "scrolled": true
   },
   "outputs": [],
   "source": [
    "%matplotlib inline\n",
    "raw.plot_psd(fmax=80);"
   ]
  },
  {
   "cell_type": "code",
   "execution_count": null,
   "id": "75636239-049b-41ce-9e5a-1dc267eb5b53",
   "metadata": {
    "scrolled": true
   },
   "outputs": [],
   "source": [
    "raw.save(EEG_data_path+'/preprocessing/post_ica_%s_raw.fif'%name_subj,overwrite=True)"
   ]
  },
  {
   "cell_type": "markdown",
   "id": "f1798350-972f-4a1f-b15e-ca7f66e3bd73",
   "metadata": {},
   "source": [
    "# Auto-reject remaining artifacts"
   ]
  },
  {
   "cell_type": "markdown",
   "id": "89eb5528-7a90-49d6-91bd-5d4734689187",
   "metadata": {},
   "source": [
    "## Creating epochs"
   ]
  },
  {
   "cell_type": "code",
   "execution_count": null,
   "id": "1ea796f0-159a-4f1f-9464-88fd3cd3b340",
   "metadata": {
    "scrolled": true
   },
   "outputs": [],
   "source": [
    "raw = mne.io.read_raw_fif(EEG_data_path+'preprocessing/post_ica_%s_raw.fif'%name_subj, preload=True)\n",
    "events = mne.find_events(raw)\n",
    "events[:,-1] -= events[:,1]\n",
    "#In this experiment triggers are separated into condition,side, stimulus and response\n",
    "all_events = np.array(np.unique(events[:,2]))\n",
    "stim_trigger_values = all_events[all_events<96]#Contrast values\n",
    "stim_id = {'stimulus/'+str(k):k for k in stim_trigger_values}#building dict on those\n",
    "condition_id = {\"condition/accuracy\":102, \"condition/intermediate\":103, \"condition/speed\":104}#condition trigger\n",
    "side_id = {\"side/left\":98, \"side/right\":99}#Expected response side (correct answer)\n",
    "resp_id = {\"response/left\":256,  \"response/right\":512}#Given esponse side events\n",
    "\n",
    "event_id = condition_id | stim_id | side_id | resp_id #all retained events\n",
    "\n",
    "tmin = -0.25 #tmin is how much data (in s) needs to be used for baseline correction\n",
    "tmax = 3 #tmax is how much far in time from stim should we look for a response\n",
    "\n",
    "stim = list(stim_id.keys())\n",
    "\n",
    "metadata, events, event_id = mne.epochs.make_metadata(\n",
    "    events=events, event_id=event_id, tmin=tmin, tmax=tmax,\n",
    "    sfreq=raw.info[\"sfreq\"], row_events=stim, keep_first=[\"condition\",\"side\",\"stimulus\",\"response\"])\n",
    "\n",
    "keep_cols = ['event_name', 'response', 'first_condition', 'first_side','first_stimulus','first_response']\n",
    "metadata = metadata[keep_cols]\n",
    "metadata.reset_index(drop=True, inplace=True)\n",
    "metadata.columns = ['event_name', 'rt', 'condition', 'side','stimulus','response']\n",
    "\n",
    "\n",
    "#If you get a RuntimeWarning about no matching event found this is normal as sometime a few combinations are absent (e.g. no trial with accuracy condition, left expected response and contrast of 92)\n",
    "epochs = mne.Epochs(raw, events, event_id, tmin, tmax, proj=False,\n",
    "                baseline=(None, 0), preload=True, \n",
    "                verbose=True, detrend=1, on_missing = 'warn', event_repeated='drop',\n",
    "                metadata=metadata, reject_by_annotation=True, reject=None)"
   ]
  },
  {
   "cell_type": "code",
   "execution_count": null,
   "id": "be4f2528-2318-4f07-9917-57206b307829",
   "metadata": {
    "scrolled": true
   },
   "outputs": [],
   "source": [
    "epochs.plot_drop_log();"
   ]
  },
  {
   "cell_type": "markdown",
   "id": "efa19787-553b-4db6-8bca-63a8caef239b",
   "metadata": {},
   "source": [
    "## Auto-reject on remaining artifacts"
   ]
  },
  {
   "cell_type": "code",
   "execution_count": null,
   "id": "8fc7552b-d23e-4cc5-9d54-ec7660bc7f18",
   "metadata": {
    "scrolled": true
   },
   "outputs": [],
   "source": [
    "import autoreject #version 0.3.1 https://autoreject.github.io/\n",
    "ar = autoreject.AutoReject(n_interpolate=[4, 8, 16], consensus=np.linspace(0, .5, 4), n_jobs=-1) #I constrain the consensus parameter to be <=.5 as trials with more than half bad chan should be rejected\n",
    "ar.fit(epochs)  # fit on the first 20 epochs to save time\n",
    "epochs_ar, reject_log = ar.transform(epochs, return_log=True)\n",
    "ar.save(EEG_data_path+'/preprocessing/AR_object_%s.fif'%name_subj, overwrite=True);"
   ]
  },
  {
   "cell_type": "code",
   "execution_count": null,
   "id": "f4184c12-084a-4bae-b06c-a5be7b189569",
   "metadata": {
    "scrolled": true
   },
   "outputs": [],
   "source": [
    "%matplotlib inline\n",
    "fig, ax = plt.subplots(1,1, figsize=(10,20), dpi=300)\n",
    "reject_log.plot('horizontal', ax=ax)\n",
    "plt.show()\n",
    "evoked_bad = epochs[reject_log.bad_epochs].average()\n",
    "plt.figure()\n",
    "plt.plot(evoked_bad.times, evoked_bad.data.T * 1e6, 'r', zorder=-1)\n",
    "epochs_ar.average().plot(axes=plt.gca());"
   ]
  },
  {
   "cell_type": "markdown",
   "id": "486575bd-138f-4903-a3bc-181c84d19d64",
   "metadata": {},
   "source": [
    "Checking results and rejecting some more epochs (if any)"
   ]
  },
  {
   "cell_type": "markdown",
   "id": "95a9d111-08f7-48f6-b085-685d57cd63fb",
   "metadata": {},
   "source": [
    "Rejected epochs"
   ]
  },
  {
   "cell_type": "code",
   "execution_count": null,
   "id": "59c81cba-0099-4cb6-a697-1a73cd3ae2c1",
   "metadata": {
    "scrolled": true
   },
   "outputs": [],
   "source": [
    "%matplotlib qt\n",
    "reject_log.plot_epochs(epochs,scalings=dict(eeg=100e-6))"
   ]
  },
  {
   "cell_type": "code",
   "execution_count": null,
   "id": "efbbb000-a138-4402-8547-e91a5880b880",
   "metadata": {
    "scrolled": true
   },
   "outputs": [],
   "source": [
    "epochs_ar.plot_drop_log()"
   ]
  },
  {
   "cell_type": "code",
   "execution_count": null,
   "id": "c3faee83-0162-4637-9d1e-da60a4e66be1",
   "metadata": {
    "scrolled": true
   },
   "outputs": [],
   "source": [
    "epochs_ar.save(EEG_data_path+'/preprocessing/finished.fif'%name_subj, overwrite=True)"
   ]
  }
 ],
 "metadata": {
  "kernelspec": {
   "display_name": "Python 3 (ipykernel)",
   "language": "python",
   "name": "python3"
  },
  "language_info": {
   "codemirror_mode": {
    "name": "ipython",
    "version": 3
   },
   "file_extension": ".py",
   "mimetype": "text/x-python",
   "name": "python",
   "nbconvert_exporter": "python",
   "pygments_lexer": "ipython3",
   "version": "3.12.2"
  }
 },
 "nbformat": 4,
 "nbformat_minor": 5
}
