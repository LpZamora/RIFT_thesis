{
 "cells": [
  {
   "cell_type": "markdown",
   "id": "dabc2f92-566f-4396-b417-2507309c05c2",
   "metadata": {},
   "source": [
    "This notebook creates an mne compatible epoch file from the pre-processed data matrix generated in MATLAB"
   ]
  },
  {
   "cell_type": "code",
   "execution_count": 1,
   "id": "bf41905a-e1ed-4c18-b20b-2327828e56a0",
   "metadata": {},
   "outputs": [],
   "source": [
    "# If the structure of the matlab matrices is the same for all participants just edit this cell\n",
    "channelabels_path = '/home/lea/Documents/obsidian_notes/masterADS/ads_thesis_RIFT/A0_kabir/preprocessing/channel_labels.mat'\n",
    "eegdata_path = '/home/lea/Documents/obsidian_notes/masterADS/ads_thesis_RIFT/A0_kabir/converted/eeg_matrix.mat'\n",
    "sampling_freq_hz = 2048\n",
    "epoch_start_dist_to_cue = -1.0 #in secondes\n",
    "participant_id = 0 # saving requires it to be an integer\n",
    "endsave_path = '/home/lea/Documents/obsidian_notes/masterADS/ads_thesis_RIFT/my_code/epochs_from_matrix/'"
   ]
  },
  {
   "cell_type": "code",
   "execution_count": 2,
   "id": "0a667420-0c63-4579-a921-b68250fa9daa",
   "metadata": {},
   "outputs": [],
   "source": [
    "import scipy.io as sio\n",
    "import h5py\n",
    "import numpy as np \n",
    "from mne import create_info, concatenate_raws, EpochsArray"
   ]
  },
  {
   "cell_type": "code",
   "execution_count": 3,
   "id": "03171fb8-db26-4283-a8c2-093646e3457e",
   "metadata": {},
   "outputs": [
    {
     "data": {
      "text/plain": [
       "array([array(['EXG4'], dtype='<U4')], dtype=object)"
      ]
     },
     "execution_count": 3,
     "metadata": {},
     "output_type": "execute_result"
    }
   ],
   "source": [
    "# Get channels names from .mat\n",
    "f = sio.loadmat(channelabels_path)\n",
    "labels = f['channellabels_ADSselection']\n",
    "labels[-1]"
   ]
  },
  {
   "cell_type": "code",
   "execution_count": 4,
   "id": "1b45778e-7218-4d42-8dc3-eb250dde53a3",
   "metadata": {},
   "outputs": [],
   "source": [
    "# Remove external electrodes from labels\n",
    "labels = labels[:-4]"
   ]
  },
  {
   "cell_type": "code",
   "execution_count": 5,
   "id": "5e2f33f2-2eec-4c25-804e-e5fbd4407eb7",
   "metadata": {},
   "outputs": [
    {
     "data": {
      "text/plain": [
       "(440, 6758, 37)"
      ]
     },
     "execution_count": 5,
     "metadata": {},
     "output_type": "execute_result"
    }
   ],
   "source": [
    "# Load eeg data from .mat\n",
    "f = h5py.File(eegdata_path)\n",
    "eeg_data = np.array(f['data_eeg'])\n",
    "eeg_data.shape # trials x timepoints x channels"
   ]
  },
  {
   "cell_type": "code",
   "execution_count": 6,
   "id": "782d0640-ee71-4d1f-afe9-2415b2e245fd",
   "metadata": {},
   "outputs": [],
   "source": [
    "eeg_data = eeg_data.transpose((0,2,1))\n",
    "trials, channels, timepoints = eeg_data.shape"
   ]
  },
  {
   "cell_type": "code",
   "execution_count": 7,
   "id": "f22cc171-0219-47c1-8928-d0189c44ebdd",
   "metadata": {},
   "outputs": [
    {
     "name": "stdout",
     "output_type": "stream",
     "text": [
      "Not setting metadata\n",
      "440 matching events found\n",
      "No baseline correction applied\n",
      "0 projection items activated\n"
     ]
    }
   ],
   "source": [
    "# Define channel names\n",
    "channel_names = [str(i[0][0]) for i in labels]\n",
    "\n",
    "# Define sampling frequency \n",
    "sfreq = sampling_freq_hz\n",
    "\n",
    "# Define time range such that cue onset = 0\n",
    "tmin = epoch_start_dist_to_cue\n",
    "\n",
    "# Create MNE info structure\n",
    "info = create_info(channel_names, sfreq, ch_types='eeg')\n",
    "\n",
    "# Enter participant ID\n",
    "info['subject_info'] = {'id': participant_id}\n",
    "\n",
    "# Built list of trial data\n",
    "epochs_data = []  \n",
    "for trial in range(trials):\n",
    "    data = eeg_data[trial]\n",
    "    epochs_data.append(data)\n",
    "\n",
    "# Create EpochsArray object\n",
    "epochs = EpochsArray(epochs_data, info, tmin=tmin)"
   ]
  },
  {
   "cell_type": "code",
   "execution_count": 8,
   "id": "e081c119-a27d-4859-a198-f53d3fe43eb2",
   "metadata": {},
   "outputs": [
    {
     "data": {
      "text/html": [
       "<table class=\"table table-hover table-striped table-sm table-responsive small\">\n",
       "    <tr>\n",
       "        <th>Number of events</th>\n",
       "        <td>440</td>\n",
       "    </tr>\n",
       "    <tr>\n",
       "        <th>Events</th>\n",
       "        \n",
       "        <td>1: 440</td>\n",
       "        \n",
       "    </tr>\n",
       "    <tr>\n",
       "        <th>Time range</th>\n",
       "        <td>-1.000 – 2.299 sec</td>\n",
       "    </tr>\n",
       "    <tr>\n",
       "        <th>Baseline</th>\n",
       "        <td>off</td>\n",
       "    </tr>\n",
       "</table>"
      ],
      "text/plain": [
       "<EpochsArray |  440 events (all good), -1 - 2.29932 sec, baseline off, ~839.4 MB, data loaded,\n",
       " '1': 440>"
      ]
     },
     "execution_count": 8,
     "metadata": {},
     "output_type": "execute_result"
    }
   ],
   "source": [
    "epochs.set_montage('biosemi64')"
   ]
  },
  {
   "cell_type": "code",
   "execution_count": 9,
   "id": "7472fe77-1022-42cb-a943-fa6ccc2d921a",
   "metadata": {},
   "outputs": [
    {
     "name": "stdout",
     "output_type": "stream",
     "text": [
      "Overwriting existing file.\n"
     ]
    },
    {
     "name": "stderr",
     "output_type": "stream",
     "text": [
      "/tmp/ipykernel_22453/2167743718.py:2: RuntimeWarning: This filename (/home/lea/Documents/obsidian_notes/masterADS/ads_thesis_RIFT/my_code/epochs_from_matrix/epochs_0.fif) does not conform to MNE naming conventions. All epochs files should end with -epo.fif, -epo.fif.gz, _epo.fif or _epo.fif.gz\n",
      "  epochs.save(f'{endsave_path}epochs_{participant_id}.fif', overwrite=True)\n"
     ]
    }
   ],
   "source": [
    "# Save EpochsArray\n",
    "epochs.save(f'{endsave_path}epochs_{participant_id}.fif', overwrite=True)"
   ]
  }
 ],
 "metadata": {
  "kernelspec": {
   "display_name": "Python 3 (ipykernel)",
   "language": "python",
   "name": "python3"
  },
  "language_info": {
   "codemirror_mode": {
    "name": "ipython",
    "version": 3
   },
   "file_extension": ".py",
   "mimetype": "text/x-python",
   "name": "python",
   "nbconvert_exporter": "python",
   "pygments_lexer": "ipython3",
   "version": "3.12.2"
  }
 },
 "nbformat": 4,
 "nbformat_minor": 5
}
